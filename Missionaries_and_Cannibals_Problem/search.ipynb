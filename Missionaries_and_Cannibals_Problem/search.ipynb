{
 "cells": [
  {
   "cell_type": "markdown",
   "metadata": {},
   "source": [
    "# 问题形式化"
   ]
  },
  {
   "cell_type": "code",
   "execution_count": 1,
   "metadata": {},
   "outputs": [],
   "source": [
    "class Search:\n",
    "    # 初始状态(N, N, 1)\n",
    "    def __init__(self, N, k):\n",
    "        self.N = N\n",
    "        self.k = k\n",
    "        self.visited = []  # 存储访问过的状态\n",
    "    \n",
    "    # 目标状态(0, 0, 0)\n",
    "    def is_goal(self, state):\n",
    "        if state[0] == state[1] == state[2] == 0:\n",
    "            return True\n",
    "        else:\n",
    "            return False\n",
    "        \n",
    "    def is_visited(self, state):\n",
    "        return True if state in self.visited else False\n",
    "    \n",
    "    def push_visited(self, state):\n",
    "        self.visited.append(state)\n",
    "        \n",
    "    def pop_visited(self):\n",
    "        return self.visited.pop()\n",
    "        \n",
    "    def act(self, state, action):\n",
    "        sign = -1 if state[2] == 1 else 1  # 船在左边，左岸人数减少；船在右边，左岸人数增加\n",
    "        new_state = state.copy()\n",
    "        new_state[0] += sign * action[0]\n",
    "        new_state[1] += sign * action[1]\n",
    "        new_state[2] = int(not new_state[2])\n",
    "        # 判断是否是合理动作\n",
    "        if (0 <= new_state[0] <= self.N and 0 <= new_state[1] <= self.N and \n",
    "           (new_state[0] == new_state[1] or new_state[0] == 0 or new_state[0] == self.N)):\n",
    "            return new_state\n",
    "        else:\n",
    "            return None\n",
    "    \n",
    "    "
   ]
  },
  {
   "cell_type": "code",
   "execution_count": 2,
   "metadata": {},
   "outputs": [
    {
     "name": "stdout",
     "output_type": "stream",
     "text": [
      "[[0, 1], [1, 0], [0, 2], [1, 1], [2, 0], [0, 3], [2, 1], [3, 0]]\n"
     ]
    }
   ],
   "source": [
    "N = 5\n",
    "k = 3\n",
    "s0 = [N, N, 1]  # (missionary, cannibal, boat)\n",
    "\n",
    "actions = []  # 渡河方案（动作集合）\n",
    "for i in range(1, k + 1):   # 载人数 (船上至少要有一人)\n",
    "    for m in range(i + 1):  # 传教士人数\n",
    "        c = i - m           # 野人数\n",
    "        if m == 0 or m >= c:  # 全载野人或传教士多于野人\n",
    "            actions.append([m, c])\n",
    "\n",
    "print(actions)"
   ]
  },
  {
   "cell_type": "code",
   "execution_count": 3,
   "metadata": {},
   "outputs": [],
   "source": [
    "def print_ans(ans):  # [state, action]\n",
    "    for each in ans:\n",
    "        if each[0][2] == 0:\n",
    "            print('{}个传教士和{}个野人从左岸乘船至右岸'.format(each[1][0], each[1][1]))\n",
    "        else:\n",
    "            print('{}个传教士和{}个野人从右岸乘船至左岸'.format(each[1][0], each[1][1]))\n",
    "        print('左岸有{}个传教士和{}个野人'.format(each[0][0], each[0][1]))\n",
    "        print('右岸有{}个传教士和{}个野人'.format(N - each[0][0], N - each[0][1]))\n",
    "        print()\n",
    "        \n",
    "\n",
    "def print_ans_last(state, last):  # 返回代价，递归过程自增\n",
    "    node = last[state[0]][state[1]][state[2]]\n",
    "    last_state = node[0]\n",
    "    cost = 1\n",
    "    if last_state != s0:\n",
    "        cost = print_ans_last(last_state, last) + 1  # 递归实现反序\n",
    "    if state[2] == 0:\n",
    "        print('{}个传教士和{}个野人从左岸乘船至右岸'.format(node[1][0], node[1][1]))\n",
    "    else:\n",
    "        print('{}个传教士和{}个野人从右岸乘船至左岸'.format(node[1][0], node[1][1]))\n",
    "    print('左岸有{}个传教士和{}个野人'.format(state[0], state[1]))\n",
    "    print('右岸有{}个传教士和{}个野人'.format(N - state[0], N - state[1]))\n",
    "    print()\n",
    "    return cost"
   ]
  },
  {
   "cell_type": "markdown",
   "metadata": {},
   "source": [
    "# 无信息搜索"
   ]
  },
  {
   "cell_type": "markdown",
   "metadata": {},
   "source": [
    "## 宽度优先搜索"
   ]
  },
  {
   "cell_type": "code",
   "execution_count": 4,
   "metadata": {},
   "outputs": [
    {
     "name": "stdout",
     "output_type": "stream",
     "text": [
      "answer:\n",
      "0个传教士和2个野人从左岸乘船至右岸\n",
      "左岸有5个传教士和3个野人\n",
      "右岸有0个传教士和2个野人\n",
      "\n",
      "0个传教士和1个野人从右岸乘船至左岸\n",
      "左岸有5个传教士和4个野人\n",
      "右岸有0个传教士和1个野人\n",
      "\n",
      "0个传教士和3个野人从左岸乘船至右岸\n",
      "左岸有5个传教士和1个野人\n",
      "右岸有0个传教士和4个野人\n",
      "\n",
      "0个传教士和1个野人从右岸乘船至左岸\n",
      "左岸有5个传教士和2个野人\n",
      "右岸有0个传教士和3个野人\n",
      "\n",
      "3个传教士和0个野人从左岸乘船至右岸\n",
      "左岸有2个传教士和2个野人\n",
      "右岸有3个传教士和3个野人\n",
      "\n",
      "1个传教士和1个野人从右岸乘船至左岸\n",
      "左岸有3个传教士和3个野人\n",
      "右岸有2个传教士和2个野人\n",
      "\n",
      "3个传教士和0个野人从左岸乘船至右岸\n",
      "左岸有0个传教士和3个野人\n",
      "右岸有5个传教士和2个野人\n",
      "\n",
      "0个传教士和1个野人从右岸乘船至左岸\n",
      "左岸有0个传教士和4个野人\n",
      "右岸有5个传教士和1个野人\n",
      "\n",
      "0个传教士和2个野人从左岸乘船至右岸\n",
      "左岸有0个传教士和2个野人\n",
      "右岸有5个传教士和3个野人\n",
      "\n",
      "0个传教士和1个野人从右岸乘船至左岸\n",
      "左岸有0个传教士和3个野人\n",
      "右岸有5个传教士和2个野人\n",
      "\n",
      "0个传教士和3个野人从左岸乘船至右岸\n",
      "左岸有0个传教士和0个野人\n",
      "右岸有5个传教士和5个野人\n",
      "\n",
      "cost: 11\n",
      "search_cost: 26\n"
     ]
    }
   ],
   "source": [
    "from queue import Queue\n",
    "\n",
    "search = Search(N, k)\n",
    "search.push_visited(s0)\n",
    "last = [[[None, None, None] for i in range(N + 1)] for j in range(N + 1)]  # 记录前驱结点 [state, action]\n",
    "que = Queue()\n",
    "que.put(s0)\n",
    "search_cost = 0\n",
    "\n",
    "\n",
    "def bfs():\n",
    "    while not que.empty():\n",
    "        state = que.get()\n",
    "        global search_cost\n",
    "        search_cost += 1\n",
    "        if search.is_goal(state):\n",
    "            print('answer:')\n",
    "            cost = print_ans_last(state, last)\n",
    "            print('cost: ' + str(cost))\n",
    "            print('search_cost: ' + str(search_cost))\n",
    "            break\n",
    "        for action in actions:\n",
    "            new_state = search.act(state, action)\n",
    "            if new_state is None or search.is_visited(new_state):\n",
    "                continue\n",
    "            last[new_state[0]][new_state[1]][new_state[2]] = [state, action]\n",
    "            search.push_visited(new_state)\n",
    "            que.put(new_state)\n",
    "        \n",
    "\n",
    "bfs()\n"
   ]
  },
  {
   "cell_type": "markdown",
   "metadata": {},
   "source": [
    "## 深度优先搜索"
   ]
  },
  {
   "cell_type": "code",
   "execution_count": 5,
   "metadata": {},
   "outputs": [
    {
     "name": "stdout",
     "output_type": "stream",
     "text": [
      "answer:\n",
      "0个传教士和2个野人从左岸乘船至右岸\n",
      "左岸有5个传教士和3个野人\n",
      "右岸有0个传教士和2个野人\n",
      "\n",
      "0个传教士和1个野人从右岸乘船至左岸\n",
      "左岸有5个传教士和4个野人\n",
      "右岸有0个传教士和1个野人\n",
      "\n",
      "0个传教士和2个野人从左岸乘船至右岸\n",
      "左岸有5个传教士和2个野人\n",
      "右岸有0个传教士和3个野人\n",
      "\n",
      "0个传教士和1个野人从右岸乘船至左岸\n",
      "左岸有5个传教士和3个野人\n",
      "右岸有0个传教士和2个野人\n",
      "\n",
      "0个传教士和2个野人从左岸乘船至右岸\n",
      "左岸有5个传教士和1个野人\n",
      "右岸有0个传教士和4个野人\n",
      "\n",
      "0个传教士和1个野人从右岸乘船至左岸\n",
      "左岸有5个传教士和2个野人\n",
      "右岸有0个传教士和3个野人\n",
      "\n",
      "3个传教士和0个野人从左岸乘船至右岸\n",
      "左岸有2个传教士和2个野人\n",
      "右岸有3个传教士和3个野人\n",
      "\n",
      "1个传教士和1个野人从右岸乘船至左岸\n",
      "左岸有3个传教士和3个野人\n",
      "右岸有2个传教士和2个野人\n",
      "\n",
      "3个传教士和0个野人从左岸乘船至右岸\n",
      "左岸有0个传教士和3个野人\n",
      "右岸有5个传教士和2个野人\n",
      "\n",
      "0个传教士和1个野人从右岸乘船至左岸\n",
      "左岸有0个传教士和4个野人\n",
      "右岸有5个传教士和1个野人\n",
      "\n",
      "0个传教士和2个野人从左岸乘船至右岸\n",
      "左岸有0个传教士和2个野人\n",
      "右岸有5个传教士和3个野人\n",
      "\n",
      "0个传教士和1个野人从右岸乘船至左岸\n",
      "左岸有0个传教士和3个野人\n",
      "右岸有5个传教士和2个野人\n",
      "\n",
      "0个传教士和2个野人从左岸乘船至右岸\n",
      "左岸有0个传教士和1个野人\n",
      "右岸有5个传教士和4个野人\n",
      "\n",
      "0个传教士和1个野人从右岸乘船至左岸\n",
      "左岸有0个传教士和2个野人\n",
      "右岸有5个传教士和3个野人\n",
      "\n",
      "0个传教士和2个野人从左岸乘船至右岸\n",
      "左岸有0个传教士和0个野人\n",
      "右岸有5个传教士和5个野人\n",
      "\n",
      "cost: 15\n",
      "search_cost: 20\n"
     ]
    },
    {
     "data": {
      "text/plain": [
       "True"
      ]
     },
     "execution_count": 5,
     "metadata": {},
     "output_type": "execute_result"
    }
   ],
   "source": [
    "search = Search(N, k)\n",
    "search.push_visited(s0)\n",
    "ans = []  # [state, action]\n",
    "search_cost = 0\n",
    "\n",
    "\n",
    "def dfs(state, cur):\n",
    "    global search_cost\n",
    "    search_cost += 1\n",
    "    if search.is_goal(state):\n",
    "        print('answer:')\n",
    "        print_ans(ans)\n",
    "        print('cost: ' + str(cur))  # 搜索深度就是代价\n",
    "        print('search_cost: ' + str(search_cost))\n",
    "        return True\n",
    "    for action in actions:\n",
    "        new_state = search.act(state, action)\n",
    "        if new_state is None or search.is_visited(new_state):\n",
    "            continue\n",
    "        search.push_visited(new_state)\n",
    "        ans.append([new_state, action])\n",
    "        if dfs(new_state, cur + 1):  # 找到解就直接退出\n",
    "            return True\n",
    "        # search.pop_visited()  # 回溯可穷举所有解\n",
    "        ans.pop()\n",
    "    return False\n",
    "        \n",
    "\n",
    "dfs(s0, 0)\n"
   ]
  },
  {
   "cell_type": "markdown",
   "metadata": {},
   "source": [
    "# 有信息搜索"
   ]
  },
  {
   "cell_type": "markdown",
   "metadata": {},
   "source": [
    "## A*算法\n",
    "$f(n)=g(n)+h(n)$"
   ]
  },
  {
   "cell_type": "markdown",
   "metadata": {},
   "source": [
    "### 启发式函数(1)：\n",
    "$当前左岸剩余人数 \\\\\n",
    "h(n)=M+C$"
   ]
  },
  {
   "cell_type": "code",
   "execution_count": 6,
   "metadata": {},
   "outputs": [],
   "source": [
    "def h1(state):\n",
    "    return state[0] + state[1]"
   ]
  },
  {
   "cell_type": "markdown",
   "metadata": {},
   "source": [
    "### 启发式函数(2)：\n",
    "$状态转换后左岸剩余人数 \\\\\n",
    "h(n)=M+C-k \\cdot B$"
   ]
  },
  {
   "cell_type": "code",
   "execution_count": 7,
   "metadata": {},
   "outputs": [],
   "source": [
    "# 该启发式函数可能出现负数，但只可能在最后一步出现，因此不会导致后访问的点评价函数更低\n",
    "def h2(state):\n",
    "    return state[0] + state[1] - k * state[2]"
   ]
  },
  {
   "cell_type": "markdown",
   "metadata": {},
   "source": [
    "### 算法主体"
   ]
  },
  {
   "cell_type": "code",
   "execution_count": 8,
   "metadata": {},
   "outputs": [
    {
     "name": "stdout",
     "output_type": "stream",
     "text": [
      "answer:\n",
      "0个传教士和3个野人从左岸乘船至右岸\n",
      "左岸有5个传教士和2个野人\n",
      "右岸有0个传教士和3个野人\n",
      "\n",
      "0个传教士和1个野人从右岸乘船至左岸\n",
      "左岸有5个传教士和3个野人\n",
      "右岸有0个传教士和2个野人\n",
      "\n",
      "0个传教士和3个野人从左岸乘船至右岸\n",
      "左岸有5个传教士和0个野人\n",
      "右岸有0个传教士和5个野人\n",
      "\n",
      "0个传教士和2个野人从右岸乘船至左岸\n",
      "左岸有5个传教士和2个野人\n",
      "右岸有0个传教士和3个野人\n",
      "\n",
      "3个传教士和0个野人从左岸乘船至右岸\n",
      "左岸有2个传教士和2个野人\n",
      "右岸有3个传教士和3个野人\n",
      "\n",
      "1个传教士和1个野人从右岸乘船至左岸\n",
      "左岸有3个传教士和3个野人\n",
      "右岸有2个传教士和2个野人\n",
      "\n",
      "3个传教士和0个野人从左岸乘船至右岸\n",
      "左岸有0个传教士和3个野人\n",
      "右岸有5个传教士和2个野人\n",
      "\n",
      "0个传教士和1个野人从右岸乘船至左岸\n",
      "左岸有0个传教士和4个野人\n",
      "右岸有5个传教士和1个野人\n",
      "\n",
      "0个传教士和3个野人从左岸乘船至右岸\n",
      "左岸有0个传教士和1个野人\n",
      "右岸有5个传教士和4个野人\n",
      "\n",
      "0个传教士和1个野人从右岸乘船至左岸\n",
      "左岸有0个传教士和2个野人\n",
      "右岸有5个传教士和3个野人\n",
      "\n",
      "0个传教士和2个野人从左岸乘船至右岸\n",
      "左岸有0个传教士和0个野人\n",
      "右岸有5个传教士和5个野人\n",
      "\n",
      "cost: 11\n",
      "search_cost: 26\n"
     ]
    }
   ],
   "source": [
    "from queue import PriorityQueue\n",
    "\n",
    "h = h2  # which heuristic function\n",
    "\n",
    "search = Search(N, k)\n",
    "search.push_visited(s0)\n",
    "last = [[[None, None, None] for i in range(N + 1)] for j in range(N + 1)]  # 记录前驱结点 [state, action]\n",
    "que = PriorityQueue()  # [priority, state, last_state, action, g(n)]\n",
    "que.put([h(s0), s0, None, None, 0])\n",
    "search_cost = 0  # 搜索代价\n",
    "\n",
    "\n",
    "def AStar():\n",
    "    while not que.empty():\n",
    "        priority, state, last_state, last_action, g_n = que.get()\n",
    "        # print(priority)\n",
    "        last[state[0]][state[1]][state[2]] = [last_state, last_action]\n",
    "        search.push_visited(state)  # 注意放入close list的时机与bfs有所不同\n",
    "        \n",
    "        global search_cost\n",
    "        search_cost += 1\n",
    "        if search.is_goal(state):\n",
    "            print('answer:')\n",
    "            cost = print_ans_last(state, last)\n",
    "            print('cost: ' + str(cost))\n",
    "            print('search_cost: ' + str(search_cost))\n",
    "            break\n",
    "        for action in actions:\n",
    "            new_state = search.act(state, action)\n",
    "            if new_state is None or search.is_visited(new_state):\n",
    "                continue\n",
    "            f_n = g_n + 1 + h(new_state)  # evaluation function\n",
    "            que.put([f_n, new_state, state, action, g_n + 1])\n",
    "        \n",
    "\n",
    "AStar()\n"
   ]
  },
  {
   "cell_type": "code",
   "execution_count": null,
   "metadata": {},
   "outputs": [],
   "source": []
  }
 ],
 "metadata": {
  "kernelspec": {
   "display_name": "Python 3 (ipykernel)",
   "language": "python",
   "name": "python3"
  },
  "language_info": {
   "codemirror_mode": {
    "name": "ipython",
    "version": 3
   },
   "file_extension": ".py",
   "mimetype": "text/x-python",
   "name": "python",
   "nbconvert_exporter": "python",
   "pygments_lexer": "ipython3",
   "version": "3.9.6"
  },
  "vscode": {
   "interpreter": {
    "hash": "d6282b6e4d677aa4f061341f82854aa406aca119071d71869111bf6890f340ff"
   }
  }
 },
 "nbformat": 4,
 "nbformat_minor": 2
}
